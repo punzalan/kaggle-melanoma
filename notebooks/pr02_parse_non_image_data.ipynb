{
 "cells": [
  {
   "cell_type": "code",
   "execution_count": 1,
   "metadata": {},
   "outputs": [],
   "source": [
    "%load_ext autoreload"
   ]
  },
  {
   "cell_type": "code",
   "execution_count": 2,
   "metadata": {},
   "outputs": [],
   "source": [
    "%autoreload 2\n",
    "\n",
    "import json\n",
    "import glob\n",
    "from concurrent.futures import ThreadPoolExecutor\n",
    "import os\n",
    "\n",
    "import inflection\n",
    "import pandas as pd\n",
    "import pydicom"
   ]
  },
  {
   "cell_type": "code",
   "execution_count": 3,
   "metadata": {},
   "outputs": [],
   "source": [
    "DIR_BASE = \"../scratch/prototyping-sample/\"\n",
    "\n",
    "PATHS = glob.glob(os.path.join(DIR_BASE, \"*\"))"
   ]
  },
  {
   "cell_type": "code",
   "execution_count": 7,
   "metadata": {},
   "outputs": [],
   "source": [
    "def jsonify_sequence(sequence):\n",
    "    if len(sequence) == 0:\n",
    "        return []\n",
    "    return [datum.to_json_dict() for datum in sequence]\n",
    "\n",
    "\n",
    "def parse_image_metadata(path):\n",
    "    \n",
    "    dcm = pydicom.dcmread(path)\n",
    "\n",
    "    fields_camel = [field for field in dir(dcm) if field.lower() != field and not field.startswith(\"_\")]\n",
    "    fields_snake = [inflection.underscore(field) for field in fields_camel]\n",
    "\n",
    "    data = {}\n",
    "    for camel, snake in zip(fields_camel, fields_snake):\n",
    "        elem = getattr(dcm, camel)\n",
    "        if isinstance(elem, pydicom.sequence.Sequence):\n",
    "            data[snake] = json.dumps(jsonify_sequence(elem))\n",
    "        elif isinstance(elem, (str, int)):\n",
    "            data[snake] = elem\n",
    "        elif isinstance(elem, pydicom.valuerep.PersonName):\n",
    "            data[snake] = str(elem)\n",
    "        elif isinstance(elem, pydicom.multival.MultiValue):\n",
    "            data[snake] = json.dumps(list(elem))\n",
    "        elif camel == \"PixelData\":\n",
    "            pass\n",
    "        else:\n",
    "            raise RuntimeError\n",
    "            \n",
    "    return data"
   ]
  },
  {
   "cell_type": "code",
   "execution_count": 11,
   "metadata": {},
   "outputs": [
    {
     "name": "stdout",
     "output_type": "stream",
     "text": [
      "CPU times: user 1.62 s, sys: 175 ms, total: 1.79 s\n",
      "Wall time: 1.8 s\n"
     ]
    }
   ],
   "source": [
    "%%time\n",
    "\n",
    "records = [parse_image_metadata(path) for path in PATHS]\n",
    "metadata = pd.DataFrame.from_records(records)\n",
    "metadata.to_parquet(\"test.parquet\")"
   ]
  }
 ],
 "metadata": {
  "kernelspec": {
   "display_name": "Python 3",
   "language": "python",
   "name": "python3"
  },
  "language_info": {
   "codemirror_mode": {
    "name": "ipython",
    "version": 3
   },
   "file_extension": ".py",
   "mimetype": "text/x-python",
   "name": "python",
   "nbconvert_exporter": "python",
   "pygments_lexer": "ipython3",
   "version": "3.6.9"
  }
 },
 "nbformat": 4,
 "nbformat_minor": 4
}
